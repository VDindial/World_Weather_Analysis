{
 "cells": [
  {
   "cell_type": "markdown",
   "metadata": {},
   "source": [
    "## Deliverable 3. Create a Travel Itinerary Map."
   ]
  },
  {
   "cell_type": "code",
   "execution_count": 1,
   "metadata": {},
   "outputs": [],
   "source": [
    "# Dependencies and Setup\n",
    "import pandas as pd\n",
    "import requests\n",
    "import gmaps\n",
    "\n",
    "# Import API key\n",
    "from config import g_key\n",
    "\n",
    "# Configure gmaps\n",
    "gmaps.configure(api_key=g_key)"
   ]
  },
  {
   "cell_type": "code",
   "execution_count": 2,
   "metadata": {},
   "outputs": [
    {
     "data": {
      "text/html": [
       "<div>\n",
       "<style scoped>\n",
       "    .dataframe tbody tr th:only-of-type {\n",
       "        vertical-align: middle;\n",
       "    }\n",
       "\n",
       "    .dataframe tbody tr th {\n",
       "        vertical-align: top;\n",
       "    }\n",
       "\n",
       "    .dataframe thead th {\n",
       "        text-align: right;\n",
       "    }\n",
       "</style>\n",
       "<table border=\"1\" class=\"dataframe\">\n",
       "  <thead>\n",
       "    <tr style=\"text-align: right;\">\n",
       "      <th></th>\n",
       "      <th>City_ID</th>\n",
       "      <th>City_ID.1</th>\n",
       "      <th>City</th>\n",
       "      <th>Lat</th>\n",
       "      <th>Lng</th>\n",
       "      <th>Max Temp</th>\n",
       "      <th>Humidity</th>\n",
       "      <th>Cloudiness</th>\n",
       "      <th>Wind Speed</th>\n",
       "      <th>Description</th>\n",
       "      <th>Hotel Name</th>\n",
       "    </tr>\n",
       "  </thead>\n",
       "  <tbody>\n",
       "    <tr>\n",
       "      <th>0</th>\n",
       "      <td>169</td>\n",
       "      <td>169</td>\n",
       "      <td>Cidreira</td>\n",
       "      <td>-30.18</td>\n",
       "      <td>-50.21</td>\n",
       "      <td>70.90</td>\n",
       "      <td>81</td>\n",
       "      <td>29</td>\n",
       "      <td>7.78</td>\n",
       "      <td>scattered clouds</td>\n",
       "      <td>Hotel Castelo</td>\n",
       "    </tr>\n",
       "    <tr>\n",
       "      <th>1</th>\n",
       "      <td>176</td>\n",
       "      <td>176</td>\n",
       "      <td>Sonamura</td>\n",
       "      <td>23.47</td>\n",
       "      <td>91.27</td>\n",
       "      <td>70.00</td>\n",
       "      <td>91</td>\n",
       "      <td>21</td>\n",
       "      <td>4.59</td>\n",
       "      <td>few clouds</td>\n",
       "      <td>Letro Home Stay</td>\n",
       "    </tr>\n",
       "    <tr>\n",
       "      <th>2</th>\n",
       "      <td>352</td>\n",
       "      <td>352</td>\n",
       "      <td>Sonoita</td>\n",
       "      <td>31.85</td>\n",
       "      <td>-112.83</td>\n",
       "      <td>70.00</td>\n",
       "      <td>16</td>\n",
       "      <td>100</td>\n",
       "      <td>1.77</td>\n",
       "      <td>overcast clouds</td>\n",
       "      <td>Motel San Antonio</td>\n",
       "    </tr>\n",
       "    <tr>\n",
       "      <th>3</th>\n",
       "      <td>449</td>\n",
       "      <td>449</td>\n",
       "      <td>Coolum Beach</td>\n",
       "      <td>-26.53</td>\n",
       "      <td>153.10</td>\n",
       "      <td>70.00</td>\n",
       "      <td>74</td>\n",
       "      <td>23</td>\n",
       "      <td>3.00</td>\n",
       "      <td>few clouds</td>\n",
       "      <td>Palmer Coolum Resort</td>\n",
       "    </tr>\n",
       "    <tr>\n",
       "      <th>4</th>\n",
       "      <td>529</td>\n",
       "      <td>529</td>\n",
       "      <td>Tignere</td>\n",
       "      <td>7.37</td>\n",
       "      <td>12.65</td>\n",
       "      <td>70.84</td>\n",
       "      <td>47</td>\n",
       "      <td>95</td>\n",
       "      <td>2.86</td>\n",
       "      <td>overcast clouds</td>\n",
       "      <td>SADECK</td>\n",
       "    </tr>\n",
       "  </tbody>\n",
       "</table>\n",
       "</div>"
      ],
      "text/plain": [
       "   City_ID  City_ID.1          City    Lat     Lng  Max Temp  Humidity  \\\n",
       "0      169        169      Cidreira -30.18  -50.21     70.90        81   \n",
       "1      176        176      Sonamura  23.47   91.27     70.00        91   \n",
       "2      352        352       Sonoita  31.85 -112.83     70.00        16   \n",
       "3      449        449  Coolum Beach -26.53  153.10     70.00        74   \n",
       "4      529        529       Tignere   7.37   12.65     70.84        47   \n",
       "\n",
       "   Cloudiness  Wind Speed       Description            Hotel Name  \n",
       "0          29        7.78  scattered clouds         Hotel Castelo  \n",
       "1          21        4.59        few clouds       Letro Home Stay  \n",
       "2         100        1.77   overcast clouds     Motel San Antonio  \n",
       "3          23        3.00        few clouds  Palmer Coolum Resort  \n",
       "4          95        2.86   overcast clouds                SADECK  "
      ]
     },
     "execution_count": 2,
     "metadata": {},
     "output_type": "execute_result"
    },
    {
     "data": {
      "text/html": [
       "<div>\n",
       "<style scoped>\n",
       "    .dataframe tbody tr th:only-of-type {\n",
       "        vertical-align: middle;\n",
       "    }\n",
       "\n",
       "    .dataframe tbody tr th {\n",
       "        vertical-align: top;\n",
       "    }\n",
       "\n",
       "    .dataframe thead th {\n",
       "        text-align: right;\n",
       "    }\n",
       "</style>\n",
       "<table border=\"1\" class=\"dataframe\">\n",
       "  <thead>\n",
       "    <tr style=\"text-align: right;\">\n",
       "      <th></th>\n",
       "      <th>City_ID</th>\n",
       "      <th>City_ID.1</th>\n",
       "      <th>City</th>\n",
       "      <th>Lat</th>\n",
       "      <th>Lng</th>\n",
       "      <th>Max Temp</th>\n",
       "      <th>Humidity</th>\n",
       "      <th>Cloudiness</th>\n",
       "      <th>Wind Speed</th>\n",
       "      <th>Description</th>\n",
       "      <th>Hotel Name</th>\n",
       "    </tr>\n",
       "  </thead>\n",
       "  <tbody>\n",
       "    <tr>\n",
       "      <th>0</th>\n",
       "      <td>169</td>\n",
       "      <td>169</td>\n",
       "      <td>Cidreira</td>\n",
       "      <td>-30.18</td>\n",
       "      <td>-50.21</td>\n",
       "      <td>70.90</td>\n",
       "      <td>81</td>\n",
       "      <td>29</td>\n",
       "      <td>7.78</td>\n",
       "      <td>scattered clouds</td>\n",
       "      <td>Hotel Castelo</td>\n",
       "    </tr>\n",
       "    <tr>\n",
       "      <th>1</th>\n",
       "      <td>176</td>\n",
       "      <td>176</td>\n",
       "      <td>Sonamura</td>\n",
       "      <td>23.47</td>\n",
       "      <td>91.27</td>\n",
       "      <td>70.00</td>\n",
       "      <td>91</td>\n",
       "      <td>21</td>\n",
       "      <td>4.59</td>\n",
       "      <td>few clouds</td>\n",
       "      <td>Letro Home Stay</td>\n",
       "    </tr>\n",
       "    <tr>\n",
       "      <th>2</th>\n",
       "      <td>352</td>\n",
       "      <td>352</td>\n",
       "      <td>Sonoita</td>\n",
       "      <td>31.85</td>\n",
       "      <td>-112.83</td>\n",
       "      <td>70.00</td>\n",
       "      <td>16</td>\n",
       "      <td>100</td>\n",
       "      <td>1.77</td>\n",
       "      <td>overcast clouds</td>\n",
       "      <td>Motel San Antonio</td>\n",
       "    </tr>\n",
       "    <tr>\n",
       "      <th>3</th>\n",
       "      <td>449</td>\n",
       "      <td>449</td>\n",
       "      <td>Coolum Beach</td>\n",
       "      <td>-26.53</td>\n",
       "      <td>153.10</td>\n",
       "      <td>70.00</td>\n",
       "      <td>74</td>\n",
       "      <td>23</td>\n",
       "      <td>3.00</td>\n",
       "      <td>few clouds</td>\n",
       "      <td>Palmer Coolum Resort</td>\n",
       "    </tr>\n",
       "    <tr>\n",
       "      <th>4</th>\n",
       "      <td>529</td>\n",
       "      <td>529</td>\n",
       "      <td>Tignere</td>\n",
       "      <td>7.37</td>\n",
       "      <td>12.65</td>\n",
       "      <td>70.84</td>\n",
       "      <td>47</td>\n",
       "      <td>95</td>\n",
       "      <td>2.86</td>\n",
       "      <td>overcast clouds</td>\n",
       "      <td>SADECK</td>\n",
       "    </tr>\n",
       "  </tbody>\n",
       "</table>\n",
       "</div>"
      ],
      "text/plain": [
       "   City_ID  City_ID.1          City    Lat     Lng  Max Temp  Humidity  \\\n",
       "0      169        169      Cidreira -30.18  -50.21     70.90        81   \n",
       "1      176        176      Sonamura  23.47   91.27     70.00        91   \n",
       "2      352        352       Sonoita  31.85 -112.83     70.00        16   \n",
       "3      449        449  Coolum Beach -26.53  153.10     70.00        74   \n",
       "4      529        529       Tignere   7.37   12.65     70.84        47   \n",
       "\n",
       "   Cloudiness  Wind Speed       Description            Hotel Name  \n",
       "0          29        7.78  scattered clouds         Hotel Castelo  \n",
       "1          21        4.59        few clouds       Letro Home Stay  \n",
       "2         100        1.77   overcast clouds     Motel San Antonio  \n",
       "3          23        3.00        few clouds  Palmer Coolum Resort  \n",
       "4          95        2.86   overcast clouds                SADECK  "
      ]
     },
     "execution_count": 2,
     "metadata": {},
     "output_type": "execute_result"
    }
   ],
   "source": [
    "# 1. Read the WeatherPy_vacation.csv into a DataFrame.\n",
    "vacation_df = pd.read_csv(\"weatherpython_vacation.csv\")\n",
    "vacation_df.head()"
   ]
  },
  {
   "cell_type": "code",
   "execution_count": null,
   "metadata": {},
   "outputs": [],
   "source": [
    "# 9. Using the template add city name, the country code, the weather description and maximum temperature for the city.\n",
    "info_box_template = \"\"\"\n",
    "<dl>\n",
    "<dt>Hotel Name</dt><dd>{Hotel Name}</dd>\n",
    "<dt>City</dt><dd>{City}</dd>\n",
    "<dt>Current Weather</dt><dd>{Description} and {Max Temp} °F</dd>\n",
    "</dl>\n",
    "\"\"\"\n",
    "\n",
    "# 10a. Get the data from each row and add it to the formatting template and store the data in a list.\n",
    "hotel_info = [info_box_template.format(**row) for index, row in vacation_df.iterrows()]\n",
    "\n",
    "# 10b. Get the latitude and longitude from each row and store in a new DataFrame.\n",
    "locations = vacation_df[[\"Lat\", \"Lng\"]]"
   ]
  },
  {
   "cell_type": "code",
   "execution_count": null,
   "metadata": {},
   "outputs": [
    {
     "data": {
      "application/vnd.jupyter.widget-view+json": {
       "model_id": "a74635a72adb46f68a3603a9504df87e",
       "version_major": 2,
       "version_minor": 0
      },
      "text/plain": [
       "Figure(layout=FigureLayout(height='420px'))"
      ]
     },
     "metadata": {},
     "output_type": "display_data"
    },
    {
     "data": {
      "application/vnd.jupyter.widget-view+json": {
       "model_id": "a74635a72adb46f68a3603a9504df87e",
       "version_major": 2,
       "version_minor": 0
      },
      "text/plain": [
       "Figure(layout=FigureLayout(height='420px'))"
      ]
     },
     "metadata": {},
     "output_type": "display_data"
    }
   ],
   "source": [
    "# 4a. Add a marker layer for each city to the map.\n",
    "marker_layer = gmaps.marker_layer(locations, info_box_content=hotel_info)\n",
    "fig = gmaps.figure()\n",
    "fig.add_layer(marker_layer)\n",
    "fig\n",
    "# 4b. Display the figure\n",
    "\n"
   ]
  },
  {
   "cell_type": "code",
   "execution_count": null,
   "metadata": {},
   "outputs": [
    {
     "data": {
      "text/html": [
       "<div>\n",
       "<style scoped>\n",
       "    .dataframe tbody tr th:only-of-type {\n",
       "        vertical-align: middle;\n",
       "    }\n",
       "\n",
       "    .dataframe tbody tr th {\n",
       "        vertical-align: top;\n",
       "    }\n",
       "\n",
       "    .dataframe thead th {\n",
       "        text-align: right;\n",
       "    }\n",
       "</style>\n",
       "<table border=\"1\" class=\"dataframe\">\n",
       "  <thead>\n",
       "    <tr style=\"text-align: right;\">\n",
       "      <th></th>\n",
       "      <th>City_ID</th>\n",
       "      <th>City_ID.1</th>\n",
       "      <th>City</th>\n",
       "      <th>Lat</th>\n",
       "      <th>Lng</th>\n",
       "      <th>Max Temp</th>\n",
       "      <th>Humidity</th>\n",
       "      <th>Cloudiness</th>\n",
       "      <th>Wind Speed</th>\n",
       "      <th>Description</th>\n",
       "      <th>Hotel Name</th>\n",
       "    </tr>\n",
       "  </thead>\n",
       "  <tbody>\n",
       "    <tr>\n",
       "      <th>6</th>\n",
       "      <td>618</td>\n",
       "      <td>618</td>\n",
       "      <td>Huarmey</td>\n",
       "      <td>-10.07</td>\n",
       "      <td>-78.15</td>\n",
       "      <td>70.21</td>\n",
       "      <td>64</td>\n",
       "      <td>18</td>\n",
       "      <td>11.74</td>\n",
       "      <td>few clouds</td>\n",
       "      <td>Hotel Miramar</td>\n",
       "    </tr>\n",
       "  </tbody>\n",
       "</table>\n",
       "</div>"
      ],
      "text/plain": [
       "   City_ID  City_ID.1     City    Lat    Lng  Max Temp  Humidity  Cloudiness  \\\n",
       "6      618        618  Huarmey -10.07 -78.15     70.21        64          18   \n",
       "\n",
       "   Wind Speed Description     Hotel Name  \n",
       "6       11.74  few clouds  Hotel Miramar  "
      ]
     },
     "execution_count": 5,
     "metadata": {},
     "output_type": "execute_result"
    },
    {
     "data": {
      "text/html": [
       "<div>\n",
       "<style scoped>\n",
       "    .dataframe tbody tr th:only-of-type {\n",
       "        vertical-align: middle;\n",
       "    }\n",
       "\n",
       "    .dataframe tbody tr th {\n",
       "        vertical-align: top;\n",
       "    }\n",
       "\n",
       "    .dataframe thead th {\n",
       "        text-align: right;\n",
       "    }\n",
       "</style>\n",
       "<table border=\"1\" class=\"dataframe\">\n",
       "  <thead>\n",
       "    <tr style=\"text-align: right;\">\n",
       "      <th></th>\n",
       "      <th>City_ID</th>\n",
       "      <th>City_ID.1</th>\n",
       "      <th>City</th>\n",
       "      <th>Lat</th>\n",
       "      <th>Lng</th>\n",
       "      <th>Max Temp</th>\n",
       "      <th>Humidity</th>\n",
       "      <th>Cloudiness</th>\n",
       "      <th>Wind Speed</th>\n",
       "      <th>Description</th>\n",
       "      <th>Hotel Name</th>\n",
       "    </tr>\n",
       "  </thead>\n",
       "  <tbody>\n",
       "    <tr>\n",
       "      <th>6</th>\n",
       "      <td>618</td>\n",
       "      <td>618</td>\n",
       "      <td>Huarmey</td>\n",
       "      <td>-10.07</td>\n",
       "      <td>-78.15</td>\n",
       "      <td>70.21</td>\n",
       "      <td>64</td>\n",
       "      <td>18</td>\n",
       "      <td>11.74</td>\n",
       "      <td>few clouds</td>\n",
       "      <td>Hotel Miramar</td>\n",
       "    </tr>\n",
       "  </tbody>\n",
       "</table>\n",
       "</div>"
      ],
      "text/plain": [
       "   City_ID  City_ID.1     City    Lat    Lng  Max Temp  Humidity  Cloudiness  \\\n",
       "6      618        618  Huarmey -10.07 -78.15     70.21        64          18   \n",
       "\n",
       "   Wind Speed Description     Hotel Name  \n",
       "6       11.74  few clouds  Hotel Miramar  "
      ]
     },
     "execution_count": 5,
     "metadata": {},
     "output_type": "execute_result"
    }
   ],
   "source": [
    "vacation_df.loc[vacation_df[\"City\"]==\"Huarmey\"]"
   ]
  },
  {
   "cell_type": "code",
   "execution_count": null,
   "metadata": {},
   "outputs": [],
   "source": [
    "# From the map above pick 4 cities and create a vacation itinerary route to travel between the four cities. \n",
    "# 5. Create DataFrames for each city by filtering the 'vacation_df' using the loc method. \n",
    "# Hint: The starting and ending city should be the same city.\n",
    "\n",
    "vacation_start = vacation_df.loc[vacation_df[\"City\"]==\"Huarmey\"]\n",
    "vacation_end = vacation_df.loc[vacation_df[\"City\"]==\"Huarmey\"]\n",
    "vacation_stop1 = vacation_df.loc[vacation_df[\"City\"]==\"Cidreira\"]\n",
    "vacation_stop2 = vacation_df.loc[vacation_df[\"City\"]==\"Puerto Madryn\"]\n",
    "vacation_stop3 = vacation_df.loc[vacation_df[\"City\"]==\"Sonoita\"] "
   ]
  },
  {
   "cell_type": "code",
   "execution_count": null,
   "metadata": {},
   "outputs": [
    {
     "data": {
      "text/plain": [
       "(-10.07, -78.15)"
      ]
     },
     "execution_count": 7,
     "metadata": {},
     "output_type": "execute_result"
    },
    {
     "data": {
      "text/plain": [
       "(-10.07, -78.15)"
      ]
     },
     "execution_count": 7,
     "metadata": {},
     "output_type": "execute_result"
    }
   ],
   "source": [
    "vacation_start[\"Lat\"].to_numpy()[0],vacation_start[\"Lng\"].to_numpy()[0]"
   ]
  },
  {
   "cell_type": "code",
   "execution_count": null,
   "metadata": {},
   "outputs": [],
   "source": [
    "# 6. Get the latitude-longitude pairs as tuples from each city DataFrame using the to_numpy function and list indexing.\n",
    "start = vacation_start[\"Lat\"].to_numpy()[0],vacation_start[\"Lng\"].to_numpy()[0]\n",
    "end = vacation_end[\"Lat\"].to_numpy()[0],vacation_end[\"Lng\"].to_numpy()[0]\n",
    "stop1 = vacation_stop1[\"Lat\"].to_numpy()[0],vacation_stop1[\"Lng\"].to_numpy()[0]\n",
    "stop2 = vacation_stop2[\"Lat\"].to_numpy()[0],vacation_stop2[\"Lng\"].to_numpy()[0]\n",
    "stop3 = vacation_stop3[\"Lat\"].to_numpy()[0],vacation_stop3[\"Lng\"].to_numpy()[0]"
   ]
  },
  {
   "cell_type": "code",
   "execution_count": null,
   "metadata": {
    "scrolled": true
   },
   "outputs": [
    {
     "data": {
      "application/vnd.jupyter.widget-view+json": {
       "model_id": "711871b2a3744c5c9aa16b570f94c39a",
       "version_major": 2,
       "version_minor": 0
      },
      "text/plain": [
       "Figure(layout=FigureLayout(height='420px'))"
      ]
     },
     "metadata": {},
     "output_type": "display_data"
    },
    {
     "data": {
      "application/vnd.jupyter.widget-view+json": {
       "model_id": "711871b2a3744c5c9aa16b570f94c39a",
       "version_major": 2,
       "version_minor": 0
      },
      "text/plain": [
       "Figure(layout=FigureLayout(height='420px'))"
      ]
     },
     "metadata": {},
     "output_type": "display_data"
    }
   ],
   "source": [
    "# 7. Create a direction layer map using the start and end latitude-longitude pairs,\n",
    "# and stop1, stop2, and stop3 as the waypoints. The travel_mode should be \"DRIVING\", \"BICYCLING\", or \"WALKING\".\n",
    "\n",
    "fig = gmaps.figure()\n",
    "Route1= gmaps.directions_layer(\n",
    "        start, end, waypoints=[stop1,stop2],\n",
    "        travel_mode='DRIVING')\n",
    "fig.add_layer(Route1)\n",
    "fig\n",
    "#Had to remove Stop 3 since no route existed in Google"
   ]
  },
  {
   "cell_type": "code",
   "execution_count": null,
   "metadata": {},
   "outputs": [
    {
     "data": {
      "text/html": [
       "<div>\n",
       "<style scoped>\n",
       "    .dataframe tbody tr th:only-of-type {\n",
       "        vertical-align: middle;\n",
       "    }\n",
       "\n",
       "    .dataframe tbody tr th {\n",
       "        vertical-align: top;\n",
       "    }\n",
       "\n",
       "    .dataframe thead th {\n",
       "        text-align: right;\n",
       "    }\n",
       "</style>\n",
       "<table border=\"1\" class=\"dataframe\">\n",
       "  <thead>\n",
       "    <tr style=\"text-align: right;\">\n",
       "      <th></th>\n",
       "      <th>City_ID</th>\n",
       "      <th>City_ID.1</th>\n",
       "      <th>City</th>\n",
       "      <th>Lat</th>\n",
       "      <th>Lng</th>\n",
       "      <th>Max Temp</th>\n",
       "      <th>Humidity</th>\n",
       "      <th>Cloudiness</th>\n",
       "      <th>Wind Speed</th>\n",
       "      <th>Description</th>\n",
       "      <th>Hotel Name</th>\n",
       "    </tr>\n",
       "  </thead>\n",
       "  <tbody>\n",
       "    <tr>\n",
       "      <th>0</th>\n",
       "      <td>618</td>\n",
       "      <td>618</td>\n",
       "      <td>Huarmey</td>\n",
       "      <td>-10.07</td>\n",
       "      <td>-78.15</td>\n",
       "      <td>70.21</td>\n",
       "      <td>64</td>\n",
       "      <td>18</td>\n",
       "      <td>11.74</td>\n",
       "      <td>few clouds</td>\n",
       "      <td>Hotel Miramar</td>\n",
       "    </tr>\n",
       "    <tr>\n",
       "      <th>1</th>\n",
       "      <td>169</td>\n",
       "      <td>169</td>\n",
       "      <td>Cidreira</td>\n",
       "      <td>-30.18</td>\n",
       "      <td>-50.21</td>\n",
       "      <td>70.90</td>\n",
       "      <td>81</td>\n",
       "      <td>29</td>\n",
       "      <td>7.78</td>\n",
       "      <td>scattered clouds</td>\n",
       "      <td>Hotel Castelo</td>\n",
       "    </tr>\n",
       "    <tr>\n",
       "      <th>2</th>\n",
       "      <td>646</td>\n",
       "      <td>646</td>\n",
       "      <td>Puerto Madryn</td>\n",
       "      <td>-42.77</td>\n",
       "      <td>-65.04</td>\n",
       "      <td>70.36</td>\n",
       "      <td>37</td>\n",
       "      <td>0</td>\n",
       "      <td>13.96</td>\n",
       "      <td>clear sky</td>\n",
       "      <td>Hotel Tolosa</td>\n",
       "    </tr>\n",
       "  </tbody>\n",
       "</table>\n",
       "</div>"
      ],
      "text/plain": [
       "   City_ID  City_ID.1           City    Lat    Lng  Max Temp  Humidity  \\\n",
       "0      618        618        Huarmey -10.07 -78.15     70.21        64   \n",
       "1      169        169       Cidreira -30.18 -50.21     70.90        81   \n",
       "2      646        646  Puerto Madryn -42.77 -65.04     70.36        37   \n",
       "\n",
       "   Cloudiness  Wind Speed       Description     Hotel Name  \n",
       "0          18       11.74        few clouds  Hotel Miramar  \n",
       "1          29        7.78  scattered clouds  Hotel Castelo  \n",
       "2           0       13.96         clear sky   Hotel Tolosa  "
      ]
     },
     "execution_count": 10,
     "metadata": {},
     "output_type": "execute_result"
    },
    {
     "data": {
      "text/html": [
       "<div>\n",
       "<style scoped>\n",
       "    .dataframe tbody tr th:only-of-type {\n",
       "        vertical-align: middle;\n",
       "    }\n",
       "\n",
       "    .dataframe tbody tr th {\n",
       "        vertical-align: top;\n",
       "    }\n",
       "\n",
       "    .dataframe thead th {\n",
       "        text-align: right;\n",
       "    }\n",
       "</style>\n",
       "<table border=\"1\" class=\"dataframe\">\n",
       "  <thead>\n",
       "    <tr style=\"text-align: right;\">\n",
       "      <th></th>\n",
       "      <th>City_ID</th>\n",
       "      <th>City_ID.1</th>\n",
       "      <th>City</th>\n",
       "      <th>Lat</th>\n",
       "      <th>Lng</th>\n",
       "      <th>Max Temp</th>\n",
       "      <th>Humidity</th>\n",
       "      <th>Cloudiness</th>\n",
       "      <th>Wind Speed</th>\n",
       "      <th>Description</th>\n",
       "      <th>Hotel Name</th>\n",
       "    </tr>\n",
       "  </thead>\n",
       "  <tbody>\n",
       "    <tr>\n",
       "      <th>0</th>\n",
       "      <td>618</td>\n",
       "      <td>618</td>\n",
       "      <td>Huarmey</td>\n",
       "      <td>-10.07</td>\n",
       "      <td>-78.15</td>\n",
       "      <td>70.21</td>\n",
       "      <td>64</td>\n",
       "      <td>18</td>\n",
       "      <td>11.74</td>\n",
       "      <td>few clouds</td>\n",
       "      <td>Hotel Miramar</td>\n",
       "    </tr>\n",
       "    <tr>\n",
       "      <th>1</th>\n",
       "      <td>169</td>\n",
       "      <td>169</td>\n",
       "      <td>Cidreira</td>\n",
       "      <td>-30.18</td>\n",
       "      <td>-50.21</td>\n",
       "      <td>70.90</td>\n",
       "      <td>81</td>\n",
       "      <td>29</td>\n",
       "      <td>7.78</td>\n",
       "      <td>scattered clouds</td>\n",
       "      <td>Hotel Castelo</td>\n",
       "    </tr>\n",
       "    <tr>\n",
       "      <th>2</th>\n",
       "      <td>646</td>\n",
       "      <td>646</td>\n",
       "      <td>Puerto Madryn</td>\n",
       "      <td>-42.77</td>\n",
       "      <td>-65.04</td>\n",
       "      <td>70.36</td>\n",
       "      <td>37</td>\n",
       "      <td>0</td>\n",
       "      <td>13.96</td>\n",
       "      <td>clear sky</td>\n",
       "      <td>Hotel Tolosa</td>\n",
       "    </tr>\n",
       "  </tbody>\n",
       "</table>\n",
       "</div>"
      ],
      "text/plain": [
       "   City_ID  City_ID.1           City    Lat    Lng  Max Temp  Humidity  \\\n",
       "0      618        618        Huarmey -10.07 -78.15     70.21        64   \n",
       "1      169        169       Cidreira -30.18 -50.21     70.90        81   \n",
       "2      646        646  Puerto Madryn -42.77 -65.04     70.36        37   \n",
       "\n",
       "   Cloudiness  Wind Speed       Description     Hotel Name  \n",
       "0          18       11.74        few clouds  Hotel Miramar  \n",
       "1          29        7.78  scattered clouds  Hotel Castelo  \n",
       "2           0       13.96         clear sky   Hotel Tolosa  "
      ]
     },
     "execution_count": 10,
     "metadata": {},
     "output_type": "execute_result"
    }
   ],
   "source": [
    "# 8. To create a marker layer map between the four cities.\n",
    "#  Combine the four city DataFrames into one DataFrame using the concat() function.\n",
    "itinerary_df = pd.concat([vacation_start, vacation_stop1,vacation_stop2],ignore_index=True)\n",
    "itinerary_df"
   ]
  },
  {
   "cell_type": "code",
   "execution_count": null,
   "metadata": {},
   "outputs": [],
   "source": [
    "# 9 Using the template add city name, the country code, the weather description and maximum temperature for the city. \n",
    "info_box_template = \"\"\"\n",
    "<dl>\n",
    "<dt>Hotel Name</dt><dd>{Hotel Name}</dd>\n",
    "<dt>City</dt><dd>{City}</dd>\n",
    "<dt>Current Weather</dt><dd>{Description} and {Max Temp} °F</dd>\n",
    "</dl>\n",
    "\"\"\"\n",
    "\n",
    "# 10a Get the data from each row and add it to the formatting template and store the data in a list.\n",
    "hotel_info = [info_box_template.format(**row) for index, row in itinerary_df.iterrows()]\n",
    "\n",
    "# 10b. Get the latitude and longitude from each row and store in a new DataFrame.\n",
    "locations = itinerary_df[[\"Lat\", \"Lng\"]]"
   ]
  },
  {
   "cell_type": "code",
   "execution_count": null,
   "metadata": {
    "scrolled": true
   },
   "outputs": [
    {
     "data": {
      "application/vnd.jupyter.widget-view+json": {
       "model_id": "711871b2a3744c5c9aa16b570f94c39a",
       "version_major": 2,
       "version_minor": 0
      },
      "text/plain": [
       "Figure(layout=FigureLayout(height='420px'))"
      ]
     },
     "metadata": {},
     "output_type": "display_data"
    },
    {
     "data": {
      "application/vnd.jupyter.widget-view+json": {
       "model_id": "711871b2a3744c5c9aa16b570f94c39a",
       "version_major": 2,
       "version_minor": 0
      },
      "text/plain": [
       "Figure(layout=FigureLayout(height='420px'))"
      ]
     },
     "metadata": {},
     "output_type": "display_data"
    }
   ],
   "source": [
    "# 11a. Add a marker layer for each city to the map.\n",
    "marker_layer = gmaps.marker_layer(locations, info_box_content=hotel_info)\n",
    "fig.add_layer(marker_layer)\n",
    "fig\n",
    "# 11b. Display the figure\n"
   ]
  },
  {
   "cell_type": "code",
   "execution_count": null,
   "metadata": {},
   "outputs": [],
   "source": []
  },
  {
   "cell_type": "code",
   "execution_count": null,
   "metadata": {},
   "outputs": [],
   "source": []
  }
 ],
 "metadata": {
  "kernelspec": {
   "display_name": "PythonData",
   "language": "python",
   "name": "pythondata"
  },
  "language_info": {
   "codemirror_mode": {
    "name": "ipython",
    "version": 3
   },
   "file_extension": ".py",
   "mimetype": "text/x-python",
   "name": "python",
   "nbconvert_exporter": "python",
   "pygments_lexer": "ipython3",
   "version": "3.7.7"
  },
  "latex_envs": {
   "LaTeX_envs_menu_present": true,
   "autoclose": false,
   "autocomplete": true,
   "bibliofile": "biblio.bib",
   "cite_by": "apalike",
   "current_citInitial": 1,
   "eqLabelWithNumbers": true,
   "eqNumInitial": 1,
   "hotkeys": {
    "equation": "Ctrl-E",
    "itemize": "Ctrl-I"
   },
   "labels_anchors": false,
   "latex_user_defs": false,
   "report_style_numbering": false,
   "user_envs_cfg": false
  }
 },
 "nbformat": 4,
 "nbformat_minor": 2
}
